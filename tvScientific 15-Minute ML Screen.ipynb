{
 "cells": [
  {
   "cell_type": "markdown",
   "id": "443dda89",
   "metadata": {},
   "source": [
    "# tvScientific 15-Minute ML Screen\n",
    "\n",
    "Osasikemwen Ogieva"
   ]
  },
  {
   "cell_type": "markdown",
   "id": "9c38488c",
   "metadata": {},
   "source": [
    "\n",
    "Q1) \n",
    "\n",
    "Given a list of 2-D coordinates, write a function that returns True if the points lie on a straight line and False otherwise.\n",
    "\n",
    "Use only the Python standard libraries.\n",
    "\n",
    "collinear([[1,1], [2,2], [4,4], [-10, -10]]) = True          \n",
    "collinear([[1,0], [2,0], [3,1]]) = False "
   ]
  },
  {
   "cell_type": "code",
   "execution_count": 10,
   "id": "4d4e49d5",
   "metadata": {},
   "outputs": [
    {
     "data": {
      "text/plain": [
       "(True, False)"
      ]
     },
     "execution_count": 10,
     "metadata": {},
     "output_type": "execute_result"
    }
   ],
   "source": [
    "def collinear(points):\n",
    "    \n",
    "    o_x, o_y = points[0]\n",
    "    n_x, n_y = points[1]\n",
    "    \n",
    "    slope = (n_y - o_y) / (n_x - o_x)\n",
    "    \n",
    "    for idx in range(2, len(points)):\n",
    "        o_x, o_y = n_x, n_y\n",
    "        n_x, n_y = points[idx]\n",
    "        \n",
    "        n_slope = (n_y - o_y) / (n_x - o_x)\n",
    "        if n_slope != slope:\n",
    "            return False\n",
    "        \n",
    "    return True\n",
    "    \n",
    "collinear([[1,1], [2,2], [4,4], [-10, -10]]), collinear([[1,0], [2,0], [3,1]])"
   ]
  },
  {
   "cell_type": "markdown",
   "id": "5daa6a3c",
   "metadata": {},
   "source": [
    "Q2) \n",
    "\n",
    "Define a function that returns the frequencies of the last digits of a list of nonnegative integers. \n",
    "\n",
    "Use only the Python standard libraries.\n",
    "\n",
    "Given the list [49, 10, 20, 5, 30, 785]:     \n",
    "9 is the last digit once (in 49),       \n",
    "0 is the last digit three times (in 10, 20, and 30),    \n",
    "5 is the last digit two times (in 5 and 785)    \n",
    "\n",
    "last_digit_counts([49, 10, 20, 5, 30, 785]) = {9:1, 0:3, 5:2} # or something equivalent"
   ]
  },
  {
   "cell_type": "code",
   "execution_count": 14,
   "id": "b5ca36b0",
   "metadata": {},
   "outputs": [
    {
     "data": {
      "text/plain": [
       "{9: 1, 0: 3, 5: 2}"
      ]
     },
     "execution_count": 14,
     "metadata": {},
     "output_type": "execute_result"
    }
   ],
   "source": [
    "def last_digit_counts(digits):\n",
    "    \n",
    "    mapp = {}\n",
    "    \n",
    "    for digit in digits:\n",
    "        last_digit = int(str(digit)[-1])\n",
    "        \n",
    "        if last_digit not in mapp:\n",
    "            mapp[last_digit] = 1\n",
    "        else:\n",
    "            mapp[last_digit] = mapp[last_digit] + 1\n",
    "            \n",
    "    return mapp\n",
    "\n",
    "last_digit_counts([49, 10, 20, 5, 30, 785]) # = {9:1, 0:3, 5:2} # or something equivalent"
   ]
  },
  {
   "cell_type": "markdown",
   "id": "57a9716b",
   "metadata": {},
   "source": [
    "Q3) \n",
    "\n",
    "If you flip a fair coin 100 times (independently), what is the chance that more than 60 flips come up heads?        \n",
    "Do not try to compute this value exactly; instead, use the simplest \"good\" approximation you can come up with.     \n",
    "You should not write any code for this problem.\n",
    "\n",
    "---\n",
    "Let X be a random variable       \n",
    "X = number of flips that come up heads       \n",
    "$$X \\to Binomial (n = 100 (flips), p = 0.5 (fair coin) )$$\n",
    "\n",
    "Looking for the probability that more than 60 flips come up head    \n",
    "$$= P(X > 60)$$          \n",
    "$$= 1 - P(X =< 60)$$\n",
    "\n",
    "$$=1 - \\sum_{0}^{20} (n choose k) p^k \\cdot (1-p)^{n-k}$$\n",
    "\n",
    "Or: Use the normal approximation of a binomial distribution      \n",
    "Works because n = 100 > 30, and np = 50 >> 5     \n",
    "\n",
    "$$X \\to Normal (mean = np, variance = np(1-p))$$\n",
    "\n",
    "$$Mean = np = 100 × 0.5 = 50$$    \n",
    "\n",
    "$$SD = \\sqrt{(np(1-p))} = \\sqrt{(100 × 0.5 × 0.5)} = \\sqrt{25} = 5$$\n",
    "\n",
    "Using the continuity correction of 0.5:         \n",
    "$$P(X > 60) = P(Z > (60.5 - 50)/5) = P(Z > 2.1)$$ = **0.018** (look up)       \n",
    "\n",
    "Z is the standard normal random variable, Normal (0, 1)\n",
    "\n",
    "So the chance of getting more than 60 heads in 100 flips of a fair coin is approximately **1.8%**.\n",
    "\n",
    "---"
   ]
  },
  {
   "cell_type": "markdown",
   "id": "602640b4",
   "metadata": {},
   "source": [
    "Q4) \n",
    "\n",
    "What tools do you use to help you code productively?     \n",
    "For example, what editor/IDE do you prefer?       \n",
    "Testing framework? Linter? Command line utilities?      \n",
    "Other tools you like or recommend to friends?     \n",
    "Is there something you've discovered recently but haven’t had time to learn yet?        \n",
    "\n",
    "---\n",
    "\n",
    "My favorite IDE is https://shell.cloud.google.com/.          \n",
    "I mostly test manually (run and see, print statements) and with unit tests."
   ]
  },
  {
   "cell_type": "code",
   "execution_count": null,
   "id": "1c076d7b",
   "metadata": {},
   "outputs": [],
   "source": []
  }
 ],
 "metadata": {
  "kernelspec": {
   "display_name": "Python 3 (ipykernel)",
   "language": "python",
   "name": "python3"
  },
  "language_info": {
   "codemirror_mode": {
    "name": "ipython",
    "version": 3
   },
   "file_extension": ".py",
   "mimetype": "text/x-python",
   "name": "python",
   "nbconvert_exporter": "python",
   "pygments_lexer": "ipython3",
   "version": "3.11.5"
  }
 },
 "nbformat": 4,
 "nbformat_minor": 5
}
