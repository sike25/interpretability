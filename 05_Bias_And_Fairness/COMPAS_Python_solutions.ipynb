{
  "cells": [
    {
      "cell_type": "code",
      "execution_count": null,
      "metadata": {
        "id": "XY275d4JRfMM"
      },
      "outputs": [],
      "source": [
        "%%bash\n",
        "# Some set-up specific to google colab.\n",
        "!(stat -t /usr/local/lib/*/dist-packages/google/colab > /dev/null 2>&1) && exit\n",
        "git clone https://github.com/SIDN-IAP/compas-python.git compas-python 2>> install.log\n",
        "cp compas-python/compas-scores-two-years.csv ."
      ]
    },
    {
      "cell_type": "markdown",
      "metadata": {
        "id": "S2l81ItIRfMT"
      },
      "source": [
        "# COMPAS analysis\n",
        "\n",
        "We recreate the first section of the [Propublica COMPAS analysis](https://github.com/propublica/compas-analysis) in Python.\n",
        "\n",
        "What follows are the calculations performed for ProPublica's analaysis of the COMPAS Recidivism Risk Scores. It might be helpful to open [the methodology](https://www.propublica.org/article/how-we-analyzed-the-compas-recidivism-algorithm/) in another tab to understand the following.\n",
        "\n"
      ]
    },
    {
      "cell_type": "markdown",
      "metadata": {
        "id": "tKgOK1C8RfMX"
      },
      "source": [
        "## Loading the Data\n",
        "\n",
        "We select fields for severity of charge, number of priors, demographics, age, sex, compas scores, and whether each person was accused of a crime within two years.\n",
        "\n"
      ]
    },
    {
      "cell_type": "code",
      "execution_count": null,
      "metadata": {
        "id": "ZRhgLV2xRfMY"
      },
      "outputs": [],
      "source": [
        "import pandas as pd\n",
        "import datetime"
      ]
    },
    {
      "cell_type": "code",
      "execution_count": null,
      "metadata": {
        "id": "na-9x4onRfMa",
        "outputId": "f54503ac-effa-450e-f72a-1e1d45f53c9d"
      },
      "outputs": [
        {
          "name": "stdout",
          "output_type": "stream",
          "text": [
            "Num rows: 7214\n"
          ]
        }
      ],
      "source": [
        "raw_data = pd.read_csv('./compas-scores-two-years.csv')\n",
        "print('Num rows: %d' %len(raw_data))\n",
        "\n",
        "df = raw_data"
      ]
    },
    {
      "cell_type": "markdown",
      "metadata": {
        "id": "Q4EApfUmRfMc"
      },
      "source": [
        "However not all of the rows are useable for the first round of analysis.\n",
        "\n",
        "There are a number of reasons remove rows because of missing data:\n",
        "\n",
        " - If the charge date of a defendants Compas scored crime was not within 30 days from when the person was arrested, we assume that because of data quality reasons, that we do not have the right offense.\n",
        " - We coded the recidivist flag -- is_recid -- to be -1 if we could not find a compas case at all.\n",
        " - In a similar vein, ordinary traffic offenses -- those with a df of 'O' -- will not result in Jail time are removed (only two of them).\n",
        " - We filtered the underlying data from Broward county to include only those rows representing people who had either recidivated in two years, or had at least two years outside of a correctional facility.\n",
        " - We remove rows where there is no score_text ('N/A')"
      ]
    },
    {
      "cell_type": "code",
      "execution_count": null,
      "metadata": {
        "id": "Q5b5slgiRfMd",
        "outputId": "f048c05d-febb-4db7-db9b-d072e1cf2779"
      },
      "outputs": [
        {
          "name": "stdout",
          "output_type": "stream",
          "text": [
            "Num rows filtered: 6172\n"
          ]
        }
      ],
      "source": [
        "df = df[((df['days_b_screening_arrest'] <=30) &\n",
        "      (df['days_b_screening_arrest'] >= -30) &\n",
        "      (df['is_recid'] != -1) &\n",
        "      (df['c_charge_degree'] != 'O') &\n",
        "      (df['score_text'] != 'N/A')\n",
        "     )]\n",
        "\n",
        "print('Num rows filtered: %d' % len(df))"
      ]
    },
    {
      "cell_type": "markdown",
      "metadata": {
        "id": "ZxfT2IpLRfMf"
      },
      "source": [
        "Higher COMPAS scores are slightly correlated with a longer length of stay.\n",
        "\n"
      ]
    },
    {
      "cell_type": "code",
      "execution_count": null,
      "metadata": {
        "id": "uNJiU2gzRfMf"
      },
      "outputs": [],
      "source": [
        "import numpy as np\n",
        "from datetime import datetime\n",
        "from scipy.stats import pearsonr"
      ]
    },
    {
      "cell_type": "code",
      "execution_count": null,
      "metadata": {
        "id": "s4MBTrlORfMg"
      },
      "outputs": [],
      "source": [
        "def date_from_str(s):\n",
        "    return datetime.strptime(s, '%Y-%m-%d %H:%M:%S')"
      ]
    },
    {
      "cell_type": "code",
      "execution_count": null,
      "metadata": {
        "id": "miiNPIrTRfMh",
        "outputId": "5a626e2e-0d54-45a5-d56c-b8a534d809c4"
      },
      "outputs": [
        {
          "name": "stdout",
          "output_type": "stream",
          "text": [
            "Correlation btw stay length and COMPAS scores: 0.207\n"
          ]
        },
        {
          "name": "stderr",
          "output_type": "stream",
          "text": [
            "/afs/csail.mit.edu/u/d/davidbau/.conda/envs/p3t13/lib/python3.6/site-packages/ipykernel_launcher.py:1: SettingWithCopyWarning: \n",
            "A value is trying to be set on a copy of a slice from a DataFrame.\n",
            "Try using .loc[row_indexer,col_indexer] = value instead\n",
            "\n",
            "See the caveats in the documentation: http://pandas.pydata.org/pandas-docs/stable/user_guide/indexing.html#returning-a-view-versus-a-copy\n",
            "  \"\"\"Entry point for launching an IPython kernel.\n"
          ]
        }
      ],
      "source": [
        "df['length_of_stay'] = (df['c_jail_out'].apply(date_from_str) - df['c_jail_in'].apply(date_from_str)).dt.total_seconds()\n",
        "stay_score_corr = pearsonr(df['length_of_stay'], df['decile_score'])[0]\n",
        "print('Correlation btw stay length and COMPAS scores: %.3f' % stay_score_corr)"
      ]
    },
    {
      "cell_type": "markdown",
      "metadata": {
        "id": "q6rRDrW-RfMh"
      },
      "source": [
        "After filtering we have the following demographic breakdown:"
      ]
    },
    {
      "cell_type": "code",
      "execution_count": null,
      "metadata": {
        "id": "1vffzSEkRfMi",
        "outputId": "654c9e4d-a3f9-4cf6-98d5-a3f07e361409"
      },
      "outputs": [
        {
          "data": {
            "text/plain": [
              "25 - 45            3532\n",
              "Less than 25       1347\n",
              "Greater than 45    1293\n",
              "Name: age_cat, dtype: int64"
            ]
          },
          "execution_count": 8,
          "metadata": {},
          "output_type": "execute_result"
        }
      ],
      "source": [
        "df['age_cat'].value_counts()"
      ]
    },
    {
      "cell_type": "code",
      "execution_count": null,
      "metadata": {
        "id": "sNAGXpprRfMj",
        "outputId": "f18c47f4-f53e-47a0-f9ee-1698718ca928"
      },
      "outputs": [
        {
          "data": {
            "text/plain": [
              "African-American    3175\n",
              "Caucasian           2103\n",
              "Hispanic             509\n",
              "Other                343\n",
              "Asian                 31\n",
              "Native American       11\n",
              "Name: race, dtype: int64"
            ]
          },
          "execution_count": 9,
          "metadata": {},
          "output_type": "execute_result"
        }
      ],
      "source": [
        "df['race'].value_counts()"
      ]
    },
    {
      "cell_type": "code",
      "execution_count": null,
      "metadata": {
        "id": "8udPtw5aRfMj",
        "outputId": "1bee27e1-24c8-45a6-bc21-1abff70bc988"
      },
      "outputs": [
        {
          "name": "stdout",
          "output_type": "stream",
          "text": [
            "Black defendants: 51.44%\n",
            "White defendants: 34.07%\n",
            "Hispanic defendants: 8.25%\n",
            "Asian defendants: 0.50%\n",
            "Native American defendants: 0.18%\n"
          ]
        }
      ],
      "source": [
        "print(\"Black defendants: %.2f%%\" %            (3175 / 6172 * 100))\n",
        "print(\"White defendants: %.2f%%\" %            (2103 / 6172 * 100))\n",
        "print(\"Hispanic defendants: %.2f%%\" %         (509  / 6172 * 100))\n",
        "print(\"Asian defendants: %.2f%%\" %            (31   / 6172 * 100))\n",
        "print(\"Native American defendants: %.2f%%\" %  (11   / 6172 * 100))"
      ]
    },
    {
      "cell_type": "code",
      "execution_count": null,
      "metadata": {
        "id": "MQPU-_DsRfMk",
        "outputId": "8a211fc4-fffd-4017-a826-1c3211fdb1da"
      },
      "outputs": [
        {
          "data": {
            "text/plain": [
              "Low       3421\n",
              "Medium    1607\n",
              "High      1144\n",
              "Name: score_text, dtype: int64"
            ]
          },
          "execution_count": 11,
          "metadata": {},
          "output_type": "execute_result"
        }
      ],
      "source": [
        "df['score_text'].value_counts()"
      ]
    },
    {
      "cell_type": "code",
      "execution_count": null,
      "metadata": {
        "id": "zXQ523nFRfMk",
        "outputId": "38b29b2f-bb63-432d-d220-f612ad47456f"
      },
      "outputs": [
        {
          "data": {
            "text/html": [
              "<div>\n",
              "<style scoped>\n",
              "    .dataframe tbody tr th:only-of-type {\n",
              "        vertical-align: middle;\n",
              "    }\n",
              "\n",
              "    .dataframe tbody tr th {\n",
              "        vertical-align: top;\n",
              "    }\n",
              "\n",
              "    .dataframe thead th {\n",
              "        text-align: right;\n",
              "    }\n",
              "</style>\n",
              "<table border=\"1\" class=\"dataframe\">\n",
              "  <thead>\n",
              "    <tr style=\"text-align: right;\">\n",
              "      <th>race</th>\n",
              "      <th>African-American</th>\n",
              "      <th>Asian</th>\n",
              "      <th>Caucasian</th>\n",
              "      <th>Hispanic</th>\n",
              "      <th>Native American</th>\n",
              "      <th>Other</th>\n",
              "    </tr>\n",
              "    <tr>\n",
              "      <th>sex</th>\n",
              "      <th></th>\n",
              "      <th></th>\n",
              "      <th></th>\n",
              "      <th></th>\n",
              "      <th></th>\n",
              "      <th></th>\n",
              "    </tr>\n",
              "  </thead>\n",
              "  <tbody>\n",
              "    <tr>\n",
              "      <th>Female</th>\n",
              "      <td>549</td>\n",
              "      <td>2</td>\n",
              "      <td>482</td>\n",
              "      <td>82</td>\n",
              "      <td>2</td>\n",
              "      <td>58</td>\n",
              "    </tr>\n",
              "    <tr>\n",
              "      <th>Male</th>\n",
              "      <td>2626</td>\n",
              "      <td>29</td>\n",
              "      <td>1621</td>\n",
              "      <td>427</td>\n",
              "      <td>9</td>\n",
              "      <td>285</td>\n",
              "    </tr>\n",
              "  </tbody>\n",
              "</table>\n",
              "</div>"
            ],
            "text/plain": [
              "race    African-American  Asian  Caucasian  Hispanic  Native American  Other\n",
              "sex                                                                         \n",
              "Female               549      2        482        82                2     58\n",
              "Male                2626     29       1621       427                9    285"
            ]
          },
          "execution_count": 12,
          "metadata": {},
          "output_type": "execute_result"
        }
      ],
      "source": [
        "pd.crosstab(df.sex, df.race)"
      ]
    },
    {
      "cell_type": "code",
      "execution_count": null,
      "metadata": {
        "id": "8RzRWzcHRfMl",
        "outputId": "09d8a7a2-54f0-41d5-c8f3-3e78c55a7852"
      },
      "outputs": [
        {
          "data": {
            "text/plain": [
              "Male      4997\n",
              "Female    1175\n",
              "Name: sex, dtype: int64"
            ]
          },
          "execution_count": 13,
          "metadata": {},
          "output_type": "execute_result"
        }
      ],
      "source": [
        "df['sex'].value_counts()"
      ]
    },
    {
      "cell_type": "code",
      "execution_count": null,
      "metadata": {
        "id": "y96aYXFjRfMl",
        "outputId": "67b26348-fb6f-44b8-9e26-d698e208bef3"
      },
      "outputs": [
        {
          "name": "stdout",
          "output_type": "stream",
          "text": [
            "Men: 80.96%\n",
            "Women: 19.04%\n"
          ]
        }
      ],
      "source": [
        "print(\"Men: %.2f%%\" %   (4997 / 6172 * 100))\n",
        "print(\"Women: %.2f%%\" % (1175 / 6172 * 100))"
      ]
    },
    {
      "cell_type": "code",
      "execution_count": null,
      "metadata": {
        "id": "yVxNCKZjRfMm",
        "outputId": "7a72306a-996f-4813-e19f-1f956cd56485"
      },
      "outputs": [
        {
          "name": "stdout",
          "output_type": "stream",
          "text": [
            "Num with two-year recidivism: 6172\n"
          ]
        }
      ],
      "source": [
        "print('Num with two-year recidivism: %d' % len(df['two_year_recid'] == 1))"
      ]
    },
    {
      "cell_type": "code",
      "execution_count": null,
      "metadata": {
        "id": "ac8rkPH9RfMm",
        "outputId": "90fffab4-3aba-4557-a700-9b878a4d7f6e"
      },
      "outputs": [
        {
          "name": "stdout",
          "output_type": "stream",
          "text": [
            "Num with two-year recidivism: 45.51%\n"
          ]
        }
      ],
      "source": [
        "print('Num with two-year recidivism: %.2f%%' % (len(df[df['two_year_recid'] == 1]) / len(df) * 100.))"
      ]
    },
    {
      "cell_type": "markdown",
      "metadata": {
        "id": "DegGzkXkRfMm"
      },
      "source": [
        "Judges are often presented with two sets of scores from the Compas system -- one that classifies people into High, Medium and Low risk, and a corresponding decile score. There is a clear downward trend in the decile scores as those scores increase for white defendants.\n",
        "\n"
      ]
    },
    {
      "cell_type": "code",
      "execution_count": null,
      "metadata": {
        "id": "naG59SZyRfMm"
      },
      "outputs": [],
      "source": [
        "%matplotlib inline\n",
        "\n",
        "from matplotlib import pyplot as plt"
      ]
    },
    {
      "cell_type": "code",
      "execution_count": null,
      "metadata": {
        "id": "g1oEvOA0RfMn",
        "outputId": "b05aa91f-1999-4045-aaa9-5553547a794b"
      },
      "outputs": [
        {
          "data": {
            "text/plain": [
              "Text(0, 0.5, 'Count')"
            ]
          },
          "execution_count": 18,
          "metadata": {},
          "output_type": "execute_result"
        },
        {
          "data": {
            "image/png": "[encoded data removed]",
            "text/plain": [
              "<Figure size 432x288 with 1 Axes>"
            ]
          },
          "metadata": {
            "image/png": {
              "height": 277,
              "width": 388
            },
            "needs_background": "light"
          },
          "output_type": "display_data"
        }
      ],
      "source": [
        "black_df = df[df['race'] == 'African-American']\n",
        "black_df['decile_score'].hist(edgecolor='white', bins=np.arange(13)-0.5,grid=False)\n",
        "plt.ylim([0,700])\n",
        "plt.xlim([0,11])\n",
        "plt.title('Black defendant decile scores')\n",
        "plt.xlabel('Score decile')\n",
        "plt.ylabel('Count')"
      ]
    },
    {
      "cell_type": "code",
      "execution_count": null,
      "metadata": {
        "id": "rsgBYppqRfMn",
        "outputId": "35155d08-d90b-4a33-d094-64a68051ebf8"
      },
      "outputs": [
        {
          "data": {
            "text/plain": [
              "Text(0.5, 0, 'Score decile')"
            ]
          },
          "execution_count": 19,
          "metadata": {},
          "output_type": "execute_result"
        },
        {
          "data": {
            "image/png": "[encoded data removed]",
            "text/plain": [
              "<Figure size 432x288 with 1 Axes>"
            ]
          },
          "metadata": {
            "image/png": {
              "height": 277,
              "width": 375
            },
            "needs_background": "light"
          },
          "output_type": "display_data"
        }
      ],
      "source": [
        "black_df = df[df['race'] == 'Caucasian']\n",
        "black_df['decile_score'].hist(edgecolor='white', bins=np.arange(13)-0.5,grid=False)\n",
        "plt.ylim([0,700])\n",
        "plt.xlim([0,11])\n",
        "plt.title('White defendants decile scores')\n",
        "plt.xlabel('Score decile')"
      ]
    },
    {
      "cell_type": "code",
      "execution_count": null,
      "metadata": {
        "id": "im7YSKoZRfMn",
        "outputId": "8b59c46f-9862-407a-f396-386f03642f63"
      },
      "outputs": [
        {
          "data": {
            "text/html": [
              "<div>\n",
              "<style scoped>\n",
              "    .dataframe tbody tr th:only-of-type {\n",
              "        vertical-align: middle;\n",
              "    }\n",
              "\n",
              "    .dataframe tbody tr th {\n",
              "        vertical-align: top;\n",
              "    }\n",
              "\n",
              "    .dataframe thead th {\n",
              "        text-align: right;\n",
              "    }\n",
              "</style>\n",
              "<table border=\"1\" class=\"dataframe\">\n",
              "  <thead>\n",
              "    <tr style=\"text-align: right;\">\n",
              "      <th>race</th>\n",
              "      <th>African-American</th>\n",
              "      <th>Asian</th>\n",
              "      <th>Caucasian</th>\n",
              "      <th>Hispanic</th>\n",
              "      <th>Native American</th>\n",
              "      <th>Other</th>\n",
              "    </tr>\n",
              "    <tr>\n",
              "      <th>decile_score</th>\n",
              "      <th></th>\n",
              "      <th></th>\n",
              "      <th></th>\n",
              "      <th></th>\n",
              "      <th></th>\n",
              "      <th></th>\n",
              "    </tr>\n",
              "  </thead>\n",
              "  <tbody>\n",
              "    <tr>\n",
              "      <th>1</th>\n",
              "      <td>365</td>\n",
              "      <td>15</td>\n",
              "      <td>605</td>\n",
              "      <td>159</td>\n",
              "      <td>0</td>\n",
              "      <td>142</td>\n",
              "    </tr>\n",
              "    <tr>\n",
              "      <th>2</th>\n",
              "      <td>346</td>\n",
              "      <td>4</td>\n",
              "      <td>321</td>\n",
              "      <td>89</td>\n",
              "      <td>2</td>\n",
              "      <td>60</td>\n",
              "    </tr>\n",
              "    <tr>\n",
              "      <th>3</th>\n",
              "      <td>298</td>\n",
              "      <td>5</td>\n",
              "      <td>238</td>\n",
              "      <td>73</td>\n",
              "      <td>1</td>\n",
              "      <td>32</td>\n",
              "    </tr>\n",
              "    <tr>\n",
              "      <th>4</th>\n",
              "      <td>337</td>\n",
              "      <td>0</td>\n",
              "      <td>243</td>\n",
              "      <td>47</td>\n",
              "      <td>0</td>\n",
              "      <td>39</td>\n",
              "    </tr>\n",
              "    <tr>\n",
              "      <th>5</th>\n",
              "      <td>323</td>\n",
              "      <td>1</td>\n",
              "      <td>200</td>\n",
              "      <td>39</td>\n",
              "      <td>0</td>\n",
              "      <td>19</td>\n",
              "    </tr>\n",
              "    <tr>\n",
              "      <th>6</th>\n",
              "      <td>318</td>\n",
              "      <td>2</td>\n",
              "      <td>160</td>\n",
              "      <td>27</td>\n",
              "      <td>2</td>\n",
              "      <td>20</td>\n",
              "    </tr>\n",
              "    <tr>\n",
              "      <th>7</th>\n",
              "      <td>343</td>\n",
              "      <td>1</td>\n",
              "      <td>113</td>\n",
              "      <td>28</td>\n",
              "      <td>2</td>\n",
              "      <td>9</td>\n",
              "    </tr>\n",
              "    <tr>\n",
              "      <th>8</th>\n",
              "      <td>301</td>\n",
              "      <td>2</td>\n",
              "      <td>96</td>\n",
              "      <td>14</td>\n",
              "      <td>0</td>\n",
              "      <td>7</td>\n",
              "    </tr>\n",
              "    <tr>\n",
              "      <th>9</th>\n",
              "      <td>317</td>\n",
              "      <td>0</td>\n",
              "      <td>77</td>\n",
              "      <td>17</td>\n",
              "      <td>2</td>\n",
              "      <td>7</td>\n",
              "    </tr>\n",
              "    <tr>\n",
              "      <th>10</th>\n",
              "      <td>227</td>\n",
              "      <td>1</td>\n",
              "      <td>50</td>\n",
              "      <td>16</td>\n",
              "      <td>2</td>\n",
              "      <td>8</td>\n",
              "    </tr>\n",
              "  </tbody>\n",
              "</table>\n",
              "</div>"
            ],
            "text/plain": [
              "race          African-American  Asian  Caucasian  Hispanic  Native American  \\\n",
              "decile_score                                                                  \n",
              "1                          365     15        605       159                0   \n",
              "2                          346      4        321        89                2   \n",
              "3                          298      5        238        73                1   \n",
              "4                          337      0        243        47                0   \n",
              "5                          323      1        200        39                0   \n",
              "6                          318      2        160        27                2   \n",
              "7                          343      1        113        28                2   \n",
              "8                          301      2         96        14                0   \n",
              "9                          317      0         77        17                2   \n",
              "10                         227      1         50        16                2   \n",
              "\n",
              "race          Other  \n",
              "decile_score         \n",
              "1               142  \n",
              "2                60  \n",
              "3                32  \n",
              "4                39  \n",
              "5                19  \n",
              "6                20  \n",
              "7                 9  \n",
              "8                 7  \n",
              "9                 7  \n",
              "10                8  "
            ]
          },
          "execution_count": 20,
          "metadata": {},
          "output_type": "execute_result"
        }
      ],
      "source": [
        "pd.crosstab(df.decile_score, df.race)"
      ]
    },
    {
      "cell_type": "markdown",
      "metadata": {
        "id": "HBW97_iIRfMo"
      },
      "source": [
        "## Racial Bias in Compas\n",
        "\n",
        "After filtering out bad rows, our first question is whether there is a significant difference in Compas scores between races. To do so we need to change some variables into factors, and run a logistic regression, comparing low scores to high scores.\n"
      ]
    },
    {
      "cell_type": "code",
      "execution_count": null,
      "metadata": {
        "id": "xBfLIduQRfMo"
      },
      "outputs": [],
      "source": [
        "from sklearn.linear_model import LogisticRegression"
      ]
    },
    {
      "cell_type": "code",
      "execution_count": null,
      "metadata": {
        "id": "r6msQfWMRfMo"
      },
      "outputs": [],
      "source": [
        "lr = LogisticRegression(solver='lbfgs')"
      ]
    },
    {
      "cell_type": "code",
      "execution_count": null,
      "metadata": {
        "id": "YP1ppEB5RfMp"
      },
      "outputs": [],
      "source": [
        "df_crime = pd.get_dummies(df['c_charge_degree'],prefix='crimefactor',drop_first=True)\n",
        "df_age = pd.get_dummies(df['age_cat'],prefix='age')\n",
        "df_race = pd.get_dummies(df['race'],prefix='race')\n",
        "df_gender = pd.get_dummies(df['sex'],prefix='sex',drop_first=True)\n",
        "df_score = pd.get_dummies(df['score_text'] != 'Low',prefix='score_factor',drop_first=True)"
      ]
    },
    {
      "cell_type": "code",
      "execution_count": null,
      "metadata": {
        "id": "QuKQ4UpRRfMp"
      },
      "outputs": [],
      "source": [
        "df_lr = pd.concat([df_crime, df_age,df_race,df_gender,\n",
        "                   df['priors_count'],df['two_year_recid']\n",
        "                  ],axis=1)"
      ]
    },
    {
      "cell_type": "code",
      "execution_count": null,
      "metadata": {
        "id": "s_2ebm8ZRfMp",
        "outputId": "c75d72fd-f28b-4421-c56a-8fbe4b292fd9"
      },
      "outputs": [
        {
          "data": {
            "text/plain": [
              "LogisticRegression(C=1.0, class_weight=None, dual=False, fit_intercept=True,\n",
              "                   intercept_scaling=1, l1_ratio=None, max_iter=100,\n",
              "                   multi_class='warn', n_jobs=None, penalty='l2',\n",
              "                   random_state=None, solver='lbfgs', tol=0.0001, verbose=0,\n",
              "                   warm_start=False)"
            ]
          },
          "execution_count": 25,
          "metadata": {},
          "output_type": "execute_result"
        }
      ],
      "source": [
        "lr.fit(df_lr,df_score.values.ravel())"
      ]
    },
    {
      "cell_type": "code",
      "execution_count": null,
      "metadata": {
        "id": "7MxNDqgnRfMq"
      },
      "outputs": [],
      "source": [
        "cols = np.concatenate([df_crime.columns.values,\n",
        "                df_age.columns.values,\n",
        "                df_race.columns.values,\n",
        "                df_gender.columns.values,\n",
        "                ['priors_count'],\n",
        "                ['two_year_recid']\n",
        "               ])"
      ]
    },
    {
      "cell_type": "code",
      "execution_count": null,
      "metadata": {
        "id": "8465Z6cIRfMq",
        "outputId": "2eb69786-9528-4e96-beb8-68d99d1a91c0"
      },
      "outputs": [
        {
          "name": "stdout",
          "output_type": "stream",
          "text": [
            "-1.335 (Intercept)\n",
            "-0.310 crimefactor_M\n",
            "0.018 age_25 - 45\n",
            "-1.328 age_Greater than 45\n",
            "1.319 age_Less than 25\n",
            "0.490 race_African-American\n",
            "-0.201 race_Asian\n",
            "0.013 race_Caucasian\n",
            "-0.409 race_Hispanic\n",
            "0.909 race_Native American\n",
            "-0.793 race_Other\n",
            "-0.219 sex_Male\n",
            "0.268 priors_count\n",
            "0.683 two_year_recid\n"
          ]
        }
      ],
      "source": [
        "assert len(cols) == len(lr.coef_[0])\n",
        "print('%.3f' % lr.intercept_, '(Intercept)')\n",
        "for i,j in zip(cols, lr.coef_[0]): print('%.3f' % j, i)"
      ]
    },
    {
      "cell_type": "markdown",
      "metadata": {
        "id": "SH8baXBHRfMr"
      },
      "source": [
        "Black defendants are 44% more likely than white defendants to receive a higher score correcting for the seriousness of their crime, previous arrests, and future criminal behavior.\n",
        "\n"
      ]
    },
    {
      "cell_type": "code",
      "execution_count": null,
      "metadata": {
        "id": "mys9yJzjRfMr",
        "outputId": "a573b43d-7823-44c4-9c80-fb5eb6d7e2ef"
      },
      "outputs": [
        {
          "name": "stdout",
          "output_type": "stream",
          "text": [
            "Black defendants: 1.4423\n"
          ]
        }
      ],
      "source": [
        "control = np.exp(-1.335) / (1 + np.exp(-1.335))\n",
        "black_odds = np.exp(0.490) / (1 - control + (control * np.exp(0.490)))\n",
        "print('Black defendants: %.4f' % black_odds)"
      ]
    }
  ],
  "metadata": {
    "kernelspec": {
      "display_name": "Python 3",
      "language": "python",
      "name": "python3"
    },
    "language_info": {
      "codemirror_mode": {
        "name": "ipython",
        "version": 3
      },
      "file_extension": ".py",
      "mimetype": "text/x-python",
      "name": "python",
      "nbconvert_exporter": "python",
      "pygments_lexer": "ipython3",
      "version": "3.6.7"
    },
    "colab": {
      "provenance": []
    }
  },
  "nbformat": 4,
  "nbformat_minor": 0
}