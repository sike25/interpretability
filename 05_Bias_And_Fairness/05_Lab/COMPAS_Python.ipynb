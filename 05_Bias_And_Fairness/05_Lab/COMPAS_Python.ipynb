{
  "cells": [
    {
      "cell_type": "code",
      "execution_count": null,
      "metadata": {
        "id": "ul01KtkkRfKv"
      },
      "outputs": [],
      "source": [
        "%%bash\n",
        "# Some set-up specific to google colab.\n",
        "!(stat -t /usr/local/lib/*/dist-packages/google/colab > /dev/null 2>&1) && exit\n",
        "git clone https://github.com/SIDN-IAP/compas-python.git compas-python 2>> install.log\n",
        "cp compas-python/compas-scores-two-years.csv ."
      ]
    },
    {
      "cell_type": "markdown",
      "metadata": {
        "id": "K9tvnIBmRfK3"
      },
      "source": [
        "# COMPAS analysis\n",
        "\n",
        "We recreate the first section of the [Propublica COMPAS analysis](https://github.com/propublica/compas-analysis) in Python.\n",
        "\n",
        "What follows are the calculations performed for ProPublica's analaysis of the COMPAS Recidivism Risk Scores. It might be helpful to open [the methodology](https://www.propublica.org/article/how-we-analyzed-the-compas-recidivism-algorithm/) in another tab to understand the following.\n",
        "\n"
      ]
    },
    {
      "cell_type": "markdown",
      "metadata": {
        "id": "fdz0473uRfK7"
      },
      "source": [
        "## Loading the Data\n",
        "\n",
        "We select fields for severity of charge, number of priors, demographics, age, sex, compas scores, and whether each person was accused of a crime within two years.\n",
        "\n"
      ]
    },
    {
      "cell_type": "code",
      "execution_count": null,
      "metadata": {
        "id": "XJla0Q2RRfK8"
      },
      "outputs": [],
      "source": [
        "import pandas as pd\n",
        "import datetime"
      ]
    },
    {
      "cell_type": "code",
      "execution_count": null,
      "metadata": {
        "id": "Glm4IhyERfK9"
      },
      "outputs": [],
      "source": [
        "raw_data = pd.read_csv('./compas-scores-two-years.csv')\n",
        "print('Num rows: %d' %len(raw_data))"
      ]
    },
    {
      "cell_type": "markdown",
      "metadata": {
        "id": "e10zgUotRfK_"
      },
      "source": [
        "However not all of the rows are useable for the first round of analysis.\n",
        "\n",
        "There are a number of reasons remove rows because of missing data:\n",
        "\n",
        " - If the charge date of a defendants Compas scored crime was not within 30 days from when the person was arrested, we assume that because of data quality reasons, that we do not have the right offense.\n",
        " - We coded the recidivist flag -- is_recid -- to be -1 if we could not find a compas case at all.\n",
        " - In a similar vein, ordinary traffic offenses -- those with a df of 'O' -- will not result in Jail time are removed (only two of them).\n",
        " - We filtered the underlying data from Broward county to include only those rows representing people who had either recidivated in two years, or had at least two years outside of a correctional facility.\n",
        " - We remove rows where there is no score_text ('N/A')"
      ]
    },
    {
      "cell_type": "code",
      "execution_count": null,
      "metadata": {
        "id": "Q7RWopyeRfLA"
      },
      "outputs": [],
      "source": [
        "# TODO: implement the filtering explained above\n",
        "# Hint: you should end up with 6172"
      ]
    },
    {
      "cell_type": "markdown",
      "metadata": {
        "id": "ZMrMhWN0RfLB"
      },
      "source": [
        "Higher COMPAS scores are slightly correlated with a longer length of stay.\n",
        "\n"
      ]
    },
    {
      "cell_type": "code",
      "execution_count": null,
      "metadata": {
        "id": "rxfyab_NRfLC"
      },
      "outputs": [],
      "source": [
        "import numpy as np\n",
        "from datetime import datetime\n",
        "from scipy.stats import pearsonr"
      ]
    },
    {
      "cell_type": "code",
      "execution_count": null,
      "metadata": {
        "id": "3xxn7p3jRfLD"
      },
      "outputs": [],
      "source": [
        "def date_from_str(s):\n",
        "    return datetime.strptime(s, '%Y-%m-%d %H:%M:%S')"
      ]
    },
    {
      "cell_type": "code",
      "execution_count": null,
      "metadata": {
        "id": "ePkmdwYVRfLE"
      },
      "outputs": [],
      "source": [
        "# TODO: find the Pearson correlation between length of stay (jail_out - jail_in) and COMPAS decile"
      ]
    },
    {
      "cell_type": "markdown",
      "metadata": {
        "id": "NHm6AIHURfLE"
      },
      "source": [
        "After filtering we have the following demographic breakdown:"
      ]
    },
    {
      "cell_type": "code",
      "execution_count": null,
      "metadata": {
        "id": "40n4k7mVRfLF"
      },
      "outputs": [],
      "source": [
        "# TODO: find counts for each age group\n",
        "# TODO: find counts and percentages for each race group\n",
        "# TODO: find counts of each score_text group"
      ]
    },
    {
      "cell_type": "code",
      "execution_count": null,
      "metadata": {
        "id": "iKolSnYuRfLF"
      },
      "outputs": [],
      "source": [
        "# TODO: create interaction table of counts between race/sex interactions"
      ]
    },
    {
      "cell_type": "code",
      "execution_count": null,
      "metadata": {
        "id": "UWyF8bEiRfLF"
      },
      "outputs": [],
      "source": [
        "# TODO: find counts and percentages for each gender group"
      ]
    },
    {
      "cell_type": "code",
      "execution_count": null,
      "metadata": {
        "id": "d7mm0SI2RfLG"
      },
      "outputs": [],
      "source": [
        "# TODO: How many defendants had two-year recidivism in last two years? What percentage of all defendants?"
      ]
    },
    {
      "cell_type": "markdown",
      "metadata": {
        "id": "Ym7m3n2aRfLG"
      },
      "source": [
        "Judges are often presented with two sets of scores from the Compas system -- one that classifies people into High, Medium and Low risk, and a corresponding decile score. There is a clear downward trend in the decile scores as those scores increase for white defendants.\n",
        "\n"
      ]
    },
    {
      "cell_type": "code",
      "execution_count": null,
      "metadata": {
        "id": "URNaifMNRfLG"
      },
      "outputs": [],
      "source": [
        "%matplotlib inline\n",
        "\n",
        "from matplotlib import pyplot as plt"
      ]
    },
    {
      "cell_type": "code",
      "execution_count": null,
      "metadata": {
        "id": "0Y7PDjr-RfLH"
      },
      "outputs": [],
      "source": [
        "# TODO: plot decile scores by count for African-America defendants"
      ]
    },
    {
      "cell_type": "code",
      "execution_count": null,
      "metadata": {
        "id": "euT-m2dZRfLH"
      },
      "outputs": [],
      "source": [
        "# TODO: plot decile scores by count for Caucasian defendants"
      ]
    },
    {
      "cell_type": "code",
      "execution_count": null,
      "metadata": {
        "id": "T705BZIjRfLH"
      },
      "outputs": [],
      "source": [
        "# TODO: Create a pivot table between decile_score and race"
      ]
    },
    {
      "cell_type": "markdown",
      "metadata": {
        "id": "FfXduMyrRfLH"
      },
      "source": [
        "## Racial Bias in Compas\n",
        "\n",
        "After filtering out bad rows, our first question is whether there is a significant difference in Compas scores between races. To do so we need to change some variables into factors, and run a logistic regression, comparing low scores to high scores.\n"
      ]
    },
    {
      "cell_type": "code",
      "execution_count": null,
      "metadata": {
        "id": "gNUTa-mBRfLH"
      },
      "outputs": [],
      "source": [
        "from sklearn.linear_model import LogisticRegression"
      ]
    },
    {
      "cell_type": "code",
      "execution_count": null,
      "metadata": {
        "id": "lkDMNWA8RfLI"
      },
      "outputs": [],
      "source": [
        "lr = LogisticRegression(solver='lbfgs')"
      ]
    },
    {
      "cell_type": "code",
      "execution_count": null,
      "metadata": {
        "id": "3MPKW-vZRfLI"
      },
      "outputs": [],
      "source": [
        "# TODO: create columns for all options for charge_degree, age, race, sex, and"
      ]
    },
    {
      "cell_type": "code",
      "execution_count": null,
      "metadata": {
        "id": "7Pso-gmPRfLI"
      },
      "outputs": [],
      "source": [
        "# TODO: Run these input features to predict whether score_text is Low or Med/High using a Logistic Regression"
      ]
    },
    {
      "cell_type": "code",
      "execution_count": null,
      "metadata": {
        "id": "WiZxgSawRfLI"
      },
      "outputs": [],
      "source": [
        "# TODO: What is the correlation coefficient for African_American? What is the odds ratio?"
      ]
    }
  ],
  "metadata": {
    "kernelspec": {
      "display_name": "Python 3",
      "language": "python",
      "name": "python3"
    },
    "language_info": {
      "codemirror_mode": {
        "name": "ipython",
        "version": 3
      },
      "file_extension": ".py",
      "mimetype": "text/x-python",
      "name": "python",
      "nbconvert_exporter": "python",
      "pygments_lexer": "ipython3",
      "version": "3.6.7"
    },
    "colab": {
      "provenance": []
    }
  },
  "nbformat": 4,
  "nbformat_minor": 0
}